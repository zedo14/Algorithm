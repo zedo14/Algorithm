{
 "cells": [
  {
   "cell_type": "code",
   "execution_count": 1,
   "id": "9d40cfb5",
   "metadata": {},
   "outputs": [
    {
     "name": "stdout",
     "output_type": "stream",
     "text": [
      "[1, 9, 10, 12, 20]\n"
     ]
    }
   ],
   "source": [
    "def selection_sort(arr):\n",
    "    n = len(arr)\n",
    "    i = 0\n",
    "    while i < n - 1:\n",
    "        min_index = i\n",
    "        j = i + 1\n",
    "        while j < n:\n",
    "            if arr[j] < arr[min_index]:\n",
    "                min_index = j\n",
    "            j += 1\n",
    "        arr[i], arr[min_index] = arr[min_index], arr[i]\n",
    "        i += 1\n",
    "    return arr\n",
    "\n",
    "# Example usage\n",
    "data = [12, 10, 9, 20, 1]\n",
    "sorted_data = selection_sort(data)\n",
    "print(sorted_data)"
   ]
  },
  {
   "cell_type": "code",
   "execution_count": null,
   "id": "83b8414f",
   "metadata": {},
   "outputs": [],
   "source": []
  }
 ],
 "metadata": {
  "kernelspec": {
   "display_name": "Python 3",
   "language": "python",
   "name": "python3"
  },
  "language_info": {
   "codemirror_mode": {
    "name": "ipython",
    "version": 3
   },
   "file_extension": ".py",
   "mimetype": "text/x-python",
   "name": "python",
   "nbconvert_exporter": "python",
   "pygments_lexer": "ipython3",
   "version": "3.13.0"
  }
 },
 "nbformat": 4,
 "nbformat_minor": 5
}
